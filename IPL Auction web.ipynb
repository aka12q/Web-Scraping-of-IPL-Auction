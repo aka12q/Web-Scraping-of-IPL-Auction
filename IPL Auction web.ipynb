{
 "cells": [
  {
   "cell_type": "markdown",
   "id": "0b0db19c",
   "metadata": {},
   "source": [
    "# From Website"
   ]
  },
  {
   "cell_type": "code",
   "execution_count": 1,
   "id": "b40f964a",
   "metadata": {},
   "outputs": [],
   "source": [
    "import requests\n",
    "from bs4 import BeautifulSoup\n",
    "import pandas as pd"
   ]
  },
  {
   "cell_type": "code",
   "execution_count": 2,
   "id": "2e9e9e84",
   "metadata": {},
   "outputs": [],
   "source": [
    "url = \"https://www.iplt20.com/auction\"\n",
    "r = requests.get(url)\n",
    "r\n",
    "soup = BeautifulSoup(r.text,\"lxml\")"
   ]
  },
  {
   "cell_type": "code",
   "execution_count": 3,
   "id": "5634e75b",
   "metadata": {
    "scrolled": true
   },
   "outputs": [
    {
     "name": "stdout",
     "output_type": "stream",
     "text": [
      "Chennai Super Kings\n",
      "Delhi Capitals\n",
      "Gujarat Titans\n",
      "Kolkata Knight Riders\n",
      "Lucknow Super Giants\n",
      "Mumbai Indians\n",
      "Punjab Kings\n",
      "Rajasthan Royals\n",
      "Royal Challengers Bengaluru\n",
      "Sunrisers Hyderabad\n"
     ]
    }
   ],
   "source": [
    "\n",
    "names = soup.find_all(\"div\",class_=\"agv-team-name\")\n",
    "name=[]\n",
    "for i in names:\n",
    "    print(i.text)\n",
    "    name.append(i.text)"
   ]
  },
  {
   "cell_type": "code",
   "execution_count": 4,
   "id": "57535271",
   "metadata": {},
   "outputs": [
    {
     "name": "stdout",
     "output_type": "stream",
     "text": [
      "₹1,00,00,000\n",
      "₹9,90,00,000\n",
      "₹7,85,00,000\n",
      "₹1,35,00,000\n",
      "₹95,00,000\n",
      "₹1,05,00,000\n",
      "₹4,15,00,000\n",
      "₹20,00,000\n",
      "₹2,85,00,000\n",
      "₹3,20,00,000\n"
     ]
    }
   ],
   "source": [
    "funds = soup.find_all(\"div\",class_=\"avg-fund-remaining\")\n",
    "#data = funds.find_all(\"span\",class_=\"fr-fund\")\n",
    "fund=[]\n",
    "for i in funds:\n",
    "    data = i.find(\"span\", class_=\"fr-fund\")\n",
    "    print(data.text)\n",
    "    fund.append(data.text)"
   ]
  },
  {
   "cell_type": "code",
   "execution_count": 5,
   "id": "109e7326",
   "metadata": {},
   "outputs": [
    {
     "name": "stdout",
     "output_type": "stream",
     "text": [
      "8\n",
      "8\n",
      "8\n",
      "8\n",
      "8\n",
      "8\n",
      "8\n",
      "8\n",
      "8\n",
      "8\n"
     ]
    }
   ],
   "source": [
    "OP = soup.find_all(\"li\",class_=\"m-0\")\n",
    "#data = funds.find_all(\"span\",class_=\"fr-fund\")\n",
    "op=[]\n",
    "for i in range(0,len(OP),2):\n",
    "    data = OP[i].find(\"span\", class_=\"fr-fund\")\n",
    "    print(data.text)\n",
    "    op.append(data.text)"
   ]
  },
  {
   "cell_type": "code",
   "execution_count": 6,
   "id": "19ce1e42",
   "metadata": {
    "scrolled": true
   },
   "outputs": [
    {
     "name": "stdout",
     "output_type": "stream",
     "text": [
      "25\n",
      "25\n",
      "25\n",
      "23\n",
      "25\n",
      "25\n",
      "25\n",
      "22\n",
      "25\n",
      "25\n"
     ]
    }
   ],
   "source": [
    "TP = soup.find_all(\"li\",class_=\"m-0 px-1\")\n",
    "#data = funds.find_all(\"span\",class_=\"fr-fund\")\n",
    "tp=[]\n",
    "for i in TP:\n",
    "    data = i.find(\"span\", class_=\"fr-fund\")\n",
    "    print(data.text)\n",
    "    tp.append(data.text)"
   ]
  },
  {
   "cell_type": "code",
   "execution_count": 7,
   "id": "d10ec00b",
   "metadata": {},
   "outputs": [
    {
     "name": "stdout",
     "output_type": "stream",
     "text": [
      "---------------------From Website-------------------------\n",
      "                   Team - Name         Funds Overseas player Total player\n",
      "0          Chennai Super Kings  ₹1,00,00,000               8           25\n",
      "1               Delhi Capitals  ₹9,90,00,000               8           25\n",
      "2               Gujarat Titans  ₹7,85,00,000               8           25\n",
      "3        Kolkata Knight Riders  ₹1,35,00,000               8           23\n",
      "4         Lucknow Super Giants    ₹95,00,000               8           25\n",
      "5               Mumbai Indians  ₹1,05,00,000               8           25\n",
      "6                 Punjab Kings  ₹4,15,00,000               8           25\n",
      "7             Rajasthan Royals    ₹20,00,000               8           22\n",
      "8  Royal Challengers Bengaluru  ₹2,85,00,000               8           25\n",
      "9          Sunrisers Hyderabad  ₹3,20,00,000               8           25\n",
      "----------------------------------------------------------\n"
     ]
    }
   ],
   "source": [
    "print(\"---------------------From Website-------------------------\")\n",
    "df = pd.DataFrame({\"Team - Name\":name,\"Funds\":fund,\"Overseas player\":op,\"Total player\":tp})\n",
    "print(df)\n",
    "print(\"----------------------------------------------------------\")"
   ]
  },
  {
   "cell_type": "markdown",
   "id": "12abfe68",
   "metadata": {},
   "source": [
    "# From Table"
   ]
  },
  {
   "cell_type": "code",
   "execution_count": 8,
   "id": "c587065d",
   "metadata": {},
   "outputs": [],
   "source": [
    "url = \"https://www.iplt20.com/auction\""
   ]
  },
  {
   "cell_type": "code",
   "execution_count": 9,
   "id": "815d6120",
   "metadata": {},
   "outputs": [
    {
     "name": "stdout",
     "output_type": "stream",
     "text": [
      "<Response [200]>\n"
     ]
    }
   ],
   "source": [
    "rw = requests.get(url)\n",
    "print(rw)"
   ]
  },
  {
   "cell_type": "code",
   "execution_count": 10,
   "id": "9062ee3b",
   "metadata": {},
   "outputs": [],
   "source": [
    "soup1 = BeautifulSoup(rw.text,\"lxml\")"
   ]
  },
  {
   "cell_type": "code",
   "execution_count": 11,
   "id": "0e134961",
   "metadata": {},
   "outputs": [
    {
     "name": "stdout",
     "output_type": "stream",
     "text": [
      "['TEAM', 'PLAYER', 'TYPE ', 'PRICE']\n"
     ]
    }
   ],
   "source": [
    "data = soup1.find(\"table\",class_=\"ih-td-tab auction-tbl\",id = \"t4\")\n",
    "d = data.find_all(\"th\")\n",
    "head = []\n",
    "for i in range(0,4):\n",
    "    h = d[i]\n",
    "    #print(h.text)\n",
    "    head.append(h.text)\n",
    "print(head)"
   ]
  },
  {
   "cell_type": "code",
   "execution_count": 12,
   "id": "508d5186",
   "metadata": {},
   "outputs": [
    {
     "data": {
      "text/html": [
       "<div>\n",
       "<style scoped>\n",
       "    .dataframe tbody tr th:only-of-type {\n",
       "        vertical-align: middle;\n",
       "    }\n",
       "\n",
       "    .dataframe tbody tr th {\n",
       "        vertical-align: top;\n",
       "    }\n",
       "\n",
       "    .dataframe thead th {\n",
       "        text-align: right;\n",
       "    }\n",
       "</style>\n",
       "<table border=\"1\" class=\"dataframe\">\n",
       "  <thead>\n",
       "    <tr style=\"text-align: right;\">\n",
       "      <th></th>\n",
       "      <th>TEAM</th>\n",
       "      <th>PLAYER</th>\n",
       "      <th>TYPE</th>\n",
       "      <th>PRICE</th>\n",
       "    </tr>\n",
       "  </thead>\n",
       "  <tbody>\n",
       "  </tbody>\n",
       "</table>\n",
       "</div>"
      ],
      "text/plain": [
       "Empty DataFrame\n",
       "Columns: [TEAM, PLAYER, TYPE , PRICE]\n",
       "Index: []"
      ]
     },
     "execution_count": 12,
     "metadata": {},
     "output_type": "execute_result"
    }
   ],
   "source": [
    "df1 = pd.DataFrame(columns = head)\n",
    "df1"
   ]
  },
  {
   "cell_type": "code",
   "execution_count": 13,
   "id": "ca106262",
   "metadata": {},
   "outputs": [],
   "source": [
    "body = data.find_all(\"tr\")\n",
    "for i in body[1:]:\n",
    "    t = i.find_all(\"td\")\n",
    "    row = [tr.text for tr in t]\n",
    "    df1.loc[(len(df1))] = row\n"
   ]
  },
  {
   "cell_type": "code",
   "execution_count": 14,
   "id": "4108c065",
   "metadata": {},
   "outputs": [],
   "source": [
    "# Assuming your DataFrame is named df\n",
    "df1.replace('\\n', '', regex=True, inplace=True)"
   ]
  },
  {
   "cell_type": "code",
   "execution_count": 15,
   "id": "c071e5b4",
   "metadata": {
    "scrolled": false
   },
   "outputs": [
    {
     "name": "stdout",
     "output_type": "stream",
     "text": [
      "---------------------From Table-------------------------\n",
      "                          TEAM           PLAYER        TYPE           PRICE\n",
      "0        Kolkata Knight Riders  Mitchell  Starc       Bowler  ₹24,75,00,000\n",
      "1          Sunrisers Hyderabad      Pat Cummins  All-Rounder  ₹20,50,00,000\n",
      "2          Chennai Super Kings   Daryl Mitchell  All-Rounder  ₹14,00,00,000\n",
      "3                 Punjab Kings    Harshal Patel  All-Rounder  ₹11,75,00,000\n",
      "4  Royal Challengers Bengaluru   Alzarri Joseph       Bowler  ₹11,50,00,000\n",
      "5               Gujarat Titans  Spencer Johnson       Bowler  ₹10,00,00,000\n",
      "6          Chennai Super Kings     Sameer Rizvi       Batter   ₹8,40,00,000\n",
      "7                 Punjab Kings    Rilee Rossouw       Batter   ₹8,00,00,000\n",
      "8               Gujarat Titans    Shahrukh Khan  All-Rounder   ₹7,40,00,000\n",
      "9             Rajasthan Royals    Rovman Powell       Batter   ₹7,40,00,000\n",
      "--------------------------------------------------------\n"
     ]
    }
   ],
   "source": [
    "print(\"---------------------From Table-------------------------\")\n",
    "print(df1)\n",
    "print(\"--------------------------------------------------------\")"
   ]
  },
  {
   "cell_type": "code",
   "execution_count": null,
   "id": "29c325f9",
   "metadata": {},
   "outputs": [],
   "source": []
  }
 ],
 "metadata": {
  "kernelspec": {
   "display_name": "Python 3 (ipykernel)",
   "language": "python",
   "name": "python3"
  },
  "language_info": {
   "codemirror_mode": {
    "name": "ipython",
    "version": 3
   },
   "file_extension": ".py",
   "mimetype": "text/x-python",
   "name": "python",
   "nbconvert_exporter": "python",
   "pygments_lexer": "ipython3",
   "version": "3.9.12"
  }
 },
 "nbformat": 4,
 "nbformat_minor": 5
}
